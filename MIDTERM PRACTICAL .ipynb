{
 "cells": [
  {
   "cell_type": "markdown",
   "id": "e23f54f0",
   "metadata": {},
   "source": [
    "# MID TERM "
   ]
  },
  {
   "cell_type": "markdown",
   "id": "09a7a0d1",
   "metadata": {},
   "source": [
    "# QUESTION 21:"
   ]
  },
  {
   "cell_type": "raw",
   "id": "8ab67de5",
   "metadata": {},
   "source": [
    "ANSWER"
   ]
  },
  {
   "cell_type": "code",
   "execution_count": 16,
   "id": "815a749d",
   "metadata": {},
   "outputs": [
    {
     "name": "stdout",
     "output_type": "stream",
     "text": [
      "The length of the segment is: 5.0\n",
      "The slope of the segment is: 0.75\n"
     ]
    }
   ],
   "source": [
    "import math\n",
    "\n",
    "class Point:\n",
    "    def __init__(self, x=0, y=0):  \n",
    "        self.x_coordinate = x\n",
    "        self.y_coordinate = y\n",
    "\n",
    "class Segment:\n",
    "    def __init__(self, point1, point2):\n",
    "        self.point1 = point1\n",
    "        self.point2 = point2\n",
    "\n",
    "    def calculate_length(self):\n",
    "        \n",
    "        length = math.sqrt((self.point2.x_coordinate - self.point1.x_coordinate) ** 2 + (self.point2.y_coordinate - self.point1.y_coordinate) ** 2)\n",
    "        print(\"The length of the segment is:\", length)\n",
    "\n",
    "    def calculate_slope(self):\n",
    "       \n",
    "        if self.point2.x_coordinate - self.point1.x_coordinate == 0:\n",
    "            slope = \"undefined\"  \n",
    "        else:\n",
    "            slope = (self.point2.y_coordinate - self.point1.y_coordinate) / (self.point2.x_coordinate - self.point1.x_coordinate)\n",
    "        print(\"The slope of the segment is:\", slope)\n",
    "\n",
    "if __name__ == \"__main__\":\n",
    "    \n",
    "    point1 = Point(4, 3)  \n",
    "    point2 = Point(0, 0)\n",
    "    segment = Segment(point1, point2)\n",
    "    segment.calculate_length()\n",
    "    segment.calculate_slope()\n"
   ]
  },
  {
   "cell_type": "markdown",
   "id": "8c6aa720",
   "metadata": {},
   "source": [
    "# QUESTION 22:"
   ]
  },
  {
   "cell_type": "raw",
   "id": "9aef412e",
   "metadata": {},
   "source": [
    "ANSWER"
   ]
  },
  {
   "cell_type": "code",
   "execution_count": 13,
   "id": "e3a78310",
   "metadata": {},
   "outputs": [
    {
     "name": "stdout",
     "output_type": "stream",
     "text": [
      "2\n",
      "4\n"
     ]
    }
   ],
   "source": [
    "import sqlite3\n",
    "\n",
    "\n",
    "conn = sqlite3.connect('weather1.db')\n",
    "\n",
    "\n",
    "cur = conn.cursor()\n",
    "\n",
    "\n",
    "cur.execute('''\n",
    "    CREATE TABLE Weather1 (\n",
    "        id INT PRIMARY KEY,\n",
    "        recordDate DATE,\n",
    "        temperature INT\n",
    "    )\n",
    "''')\n",
    "\n",
    "\n",
    "cur.executemany('''\n",
    "    INSERT INTO Weather1 (id, recordDate, temperature)\n",
    "    VALUES (?, ?, ?)\n",
    "''', [\n",
    "    (1, '2015-01-01', 10),\n",
    "    (2, '2015-01-02', 25),\n",
    "    (3, '2015-01-03', 20),\n",
    "    (4, '2015-01-04', 30)\n",
    "])\n",
    "\n",
    "\n",
    "conn.commit()\n",
    "\n",
    "\n",
    "cur.execute('''\n",
    "    SELECT w1.id\n",
    "    FROM Weather1 w1\n",
    "    JOIN Weather1 w2\n",
    "    ON w1.recordDate = DATE(w2.recordDate, '+1 day')\n",
    "    WHERE w1.temperature > w2.temperature\n",
    "''')\n",
    "\n",
    "\n",
    "results = cur.fetchall()\n",
    "for row in results:\n",
    "    print(row[0])\n",
    "\n",
    "\n",
    "conn.close()"
   ]
  },
  {
   "cell_type": "markdown",
   "id": "78d2c4b6",
   "metadata": {},
   "source": [
    "# QUESTION 23"
   ]
  },
  {
   "cell_type": "raw",
   "id": "96e50dfd",
   "metadata": {},
   "source": [
    "ANSWER"
   ]
  },
  {
   "cell_type": "code",
   "execution_count": 14,
   "id": "73370819",
   "metadata": {},
   "outputs": [
    {
     "name": "stdout",
     "output_type": "stream",
     "text": [
      "Printing pattern for (0, 0):\n",
      "\n",
      "\n",
      "Printing pattern for (0, 1):\n",
      "*\n",
      "\n",
      "\n",
      "Printing pattern for (0, 2):\n",
      "*\n",
      "**\n",
      " *\n",
      "\n",
      "\n",
      "Printing pattern for (0, 4):\n",
      "*\n",
      "**\n",
      " *\n",
      "****\n",
      " *\n",
      " **\n",
      "  *\n",
      "\n",
      "\n"
     ]
    }
   ],
   "source": [
    "def print_recursive_pattern(indent, size):\n",
    "    def print_pattern(indent, size):\n",
    "        if size > 0:\n",
    "            print_pattern(indent, size // 2)  \n",
    "            print(\" \" * indent + \"*\" * size)    \n",
    "            print_pattern(indent + 1, size // 2) \n",
    "    \n",
    "    print_pattern(indent, size)\n",
    "\n",
    "\n",
    "values_to_print = [0, 1, 2, 4]\n",
    "\n",
    "for value in values_to_print:\n",
    "    print(f\"Printing pattern for (0, {value}):\")\n",
    "    print_recursive_pattern(0, value)\n",
    "    print(\"\\n\")"
   ]
  },
  {
   "cell_type": "code",
   "execution_count": null,
   "id": "f923335e",
   "metadata": {},
   "outputs": [],
   "source": []
  }
 ],
 "metadata": {
  "kernelspec": {
   "display_name": "Python 3 (ipykernel)",
   "language": "python",
   "name": "python3"
  },
  "language_info": {
   "codemirror_mode": {
    "name": "ipython",
    "version": 3
   },
   "file_extension": ".py",
   "mimetype": "text/x-python",
   "name": "python",
   "nbconvert_exporter": "python",
   "pygments_lexer": "ipython3",
   "version": "3.11.4"
  }
 },
 "nbformat": 4,
 "nbformat_minor": 5
}
